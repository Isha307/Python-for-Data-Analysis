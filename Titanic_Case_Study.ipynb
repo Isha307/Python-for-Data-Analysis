{
  "metadata": {
    "kernelspec": {
      "language": "python",
      "display_name": "Python 3",
      "name": "python3"
    },
    "language_info": {
      "name": "python",
      "version": "3.10.13",
      "mimetype": "text/x-python",
      "codemirror_mode": {
        "name": "ipython",
        "version": 3
      },
      "pygments_lexer": "ipython3",
      "nbconvert_exporter": "python",
      "file_extension": ".py"
    },
    "kaggle": {
      "accelerator": "none",
      "dataSources": [
        {
          "sourceId": 3136,
          "databundleVersionId": 26502,
          "sourceType": "competition"
        }
      ],
      "dockerImageVersionId": 30715,
      "isInternetEnabled": true,
      "language": "python",
      "sourceType": "notebook",
      "isGpuEnabled": false
    },
    "colab": {
      "name": "Titanic Case Study",
      "provenance": [],
      "include_colab_link": true
    }
  },
  "nbformat_minor": 0,
  "nbformat": 4,
  "cells": [
    {
      "cell_type": "markdown",
      "metadata": {
        "id": "view-in-github",
        "colab_type": "text"
      },
      "source": [
        "<a href=\"https://colab.research.google.com/github/Isha307/Python-for-Data-Analysis/blob/main/Titanic_Case_Study.ipynb\" target=\"_parent\"><img src=\"https://colab.research.google.com/assets/colab-badge.svg\" alt=\"Open In Colab\"/></a>"
      ]
    },
    {
      "cell_type": "markdown",
      "source": [
        "**Dataset Link: https://www.kaggle.com/c/titanic**"
      ],
      "metadata": {
        "id": "1vwhTxJT4d28"
      }
    },
    {
      "cell_type": "code",
      "source": [
        "# This Python 3 environment comes with many helpful analytics libraries installed\n",
        "# It is defined by the kaggle/python Docker image: https://github.com/kaggle/docker-python\n",
        "# For example, here's several helpful packages to load\n",
        "\n",
        "import numpy as np # linear algebra\n",
        "import pandas as pd # data processing, CSV file I/O (e.g. pd.read_csv)\n",
        "\n",
        "# Input data files are available in the read-only \"../input/\" directory\n",
        "# For example, running this (by clicking run or pressing Shift+Enter) will list all files under the input directory\n",
        "\n",
        "import os\n",
        "for dirname, _, filenames in os.walk('/kaggle/input'):\n",
        "    for filename in filenames:\n",
        "        print(os.path.join(dirname, filename))\n",
        "\n",
        "# You can write up to 20GB to the current directory (/kaggle/working/) that gets preserved as output when you create a version using \"Save & Run All\"\n",
        "# You can also write temporary files to /kaggle/temp/, but they won't be saved outside of the current session"
      ],
      "metadata": {
        "_uuid": "8f2839f25d086af736a60e9eeb907d3b93b6e0e5",
        "_cell_guid": "b1076dfc-b9ad-4769-8c92-a6c4dae69d19",
        "execution": {
          "iopub.status.busy": "2024-06-03T05:31:42.410119Z",
          "iopub.execute_input": "2024-06-03T05:31:42.410623Z",
          "iopub.status.idle": "2024-06-03T05:31:42.421664Z",
          "shell.execute_reply.started": "2024-06-03T05:31:42.410586Z",
          "shell.execute_reply": "2024-06-03T05:31:42.420204Z"
        },
        "trusted": true,
        "id": "_IlB9v4M4d2_",
        "outputId": "b227833f-290a-4e2f-ff73-f515bb593ab4"
      },
      "execution_count": null,
      "outputs": [
        {
          "name": "stdout",
          "text": "/kaggle/input/titanic/train.csv\n/kaggle/input/titanic/test.csv\n/kaggle/input/titanic/gender_submission.csv\n",
          "output_type": "stream"
        }
      ]
    },
    {
      "cell_type": "code",
      "source": [
        "import pandas as pd\n",
        "import numpy as np\n",
        "import matplotlib.pyplot as plt\n",
        "import seaborn as sns"
      ],
      "metadata": {
        "execution": {
          "iopub.status.busy": "2024-06-03T05:31:42.427477Z",
          "iopub.execute_input": "2024-06-03T05:31:42.428076Z",
          "iopub.status.idle": "2024-06-03T05:31:42.43608Z",
          "shell.execute_reply.started": "2024-06-03T05:31:42.428039Z",
          "shell.execute_reply": "2024-06-03T05:31:42.434887Z"
        },
        "trusted": true,
        "id": "Z2v3lgfP4d3C"
      },
      "execution_count": null,
      "outputs": []
    },
    {
      "cell_type": "code",
      "source": [
        "# This Python 3 environment comes with many helpful analytics libraries installed\n",
        "df1 = pd.read_csv('/kaggle/input/titanic/train.csv')\n",
        "df2 = pd.read_csv('/kaggle/input/titanic/test.csv')\n",
        "df3 = pd.read_csv('/kaggle/input/titanic/gender_submission.csv')"
      ],
      "metadata": {
        "execution": {
          "iopub.status.busy": "2024-06-03T05:31:42.458454Z",
          "iopub.execute_input": "2024-06-03T05:31:42.459718Z",
          "iopub.status.idle": "2024-06-03T05:31:42.480526Z",
          "shell.execute_reply.started": "2024-06-03T05:31:42.459673Z",
          "shell.execute_reply": "2024-06-03T05:31:42.479289Z"
        },
        "trusted": true,
        "id": "8tBgGcp24d3E"
      },
      "execution_count": null,
      "outputs": []
    },
    {
      "cell_type": "code",
      "source": [
        "df1.info()"
      ],
      "metadata": {
        "execution": {
          "iopub.status.busy": "2024-06-03T05:31:42.482892Z",
          "iopub.execute_input": "2024-06-03T05:31:42.483262Z",
          "iopub.status.idle": "2024-06-03T05:31:42.498841Z",
          "shell.execute_reply.started": "2024-06-03T05:31:42.483232Z",
          "shell.execute_reply": "2024-06-03T05:31:42.497214Z"
        },
        "trusted": true,
        "id": "VM1ewC5C4d3F",
        "outputId": "ec5eaf17-5f47-468f-fc3f-f097147ce9ab"
      },
      "execution_count": null,
      "outputs": [
        {
          "name": "stdout",
          "text": "<class 'pandas.core.frame.DataFrame'>\nRangeIndex: 891 entries, 0 to 890\nData columns (total 12 columns):\n #   Column       Non-Null Count  Dtype  \n---  ------       --------------  -----  \n 0   PassengerId  891 non-null    int64  \n 1   Survived     891 non-null    int64  \n 2   Pclass       891 non-null    int64  \n 3   Name         891 non-null    object \n 4   Sex          891 non-null    object \n 5   Age          714 non-null    float64\n 6   SibSp        891 non-null    int64  \n 7   Parch        891 non-null    int64  \n 8   Ticket       891 non-null    object \n 9   Fare         891 non-null    float64\n 10  Cabin        204 non-null    object \n 11  Embarked     889 non-null    object \ndtypes: float64(2), int64(5), object(5)\nmemory usage: 83.7+ KB\n",
          "output_type": "stream"
        }
      ]
    },
    {
      "cell_type": "code",
      "source": [
        "df3.info()"
      ],
      "metadata": {
        "execution": {
          "iopub.status.busy": "2024-06-03T05:31:42.506547Z",
          "iopub.execute_input": "2024-06-03T05:31:42.507787Z",
          "iopub.status.idle": "2024-06-03T05:31:42.523622Z",
          "shell.execute_reply.started": "2024-06-03T05:31:42.507738Z",
          "shell.execute_reply": "2024-06-03T05:31:42.521927Z"
        },
        "trusted": true,
        "id": "2PC3TgPB4d3H",
        "outputId": "4431258c-a560-414f-9d7f-11ec162a09f7"
      },
      "execution_count": null,
      "outputs": [
        {
          "name": "stdout",
          "text": "<class 'pandas.core.frame.DataFrame'>\nRangeIndex: 418 entries, 0 to 417\nData columns (total 2 columns):\n #   Column       Non-Null Count  Dtype\n---  ------       --------------  -----\n 0   PassengerId  418 non-null    int64\n 1   Survived     418 non-null    int64\ndtypes: int64(2)\nmemory usage: 6.7 KB\n",
          "output_type": "stream"
        }
      ]
    },
    {
      "cell_type": "code",
      "source": [
        "# 1. Display Top 5 Rows of The Dataset\n",
        "df1.head()"
      ],
      "metadata": {
        "execution": {
          "iopub.status.busy": "2024-06-03T05:31:42.52735Z",
          "iopub.execute_input": "2024-06-03T05:31:42.527785Z",
          "iopub.status.idle": "2024-06-03T05:31:42.548747Z",
          "shell.execute_reply.started": "2024-06-03T05:31:42.527745Z",
          "shell.execute_reply": "2024-06-03T05:31:42.547456Z"
        },
        "trusted": true,
        "id": "yhhXqkVg4d3J",
        "outputId": "fda563eb-2c98-47aa-9ab8-c001337bcb67"
      },
      "execution_count": null,
      "outputs": [
        {
          "execution_count": 48,
          "output_type": "execute_result",
          "data": {
            "text/plain": "   PassengerId  Survived  Pclass  \\\n0            1         0       3   \n1            2         1       1   \n2            3         1       3   \n3            4         1       1   \n4            5         0       3   \n\n                                                Name     Sex   Age  SibSp  \\\n0                            Braund, Mr. Owen Harris    male  22.0      1   \n1  Cumings, Mrs. John Bradley (Florence Briggs Th...  female  38.0      1   \n2                             Heikkinen, Miss. Laina  female  26.0      0   \n3       Futrelle, Mrs. Jacques Heath (Lily May Peel)  female  35.0      1   \n4                           Allen, Mr. William Henry    male  35.0      0   \n\n   Parch            Ticket     Fare Cabin Embarked  \n0      0         A/5 21171   7.2500   NaN        S  \n1      0          PC 17599  71.2833   C85        C  \n2      0  STON/O2. 3101282   7.9250   NaN        S  \n3      0            113803  53.1000  C123        S  \n4      0            373450   8.0500   NaN        S  ",
            "text/html": "<div>\n<style scoped>\n    .dataframe tbody tr th:only-of-type {\n        vertical-align: middle;\n    }\n\n    .dataframe tbody tr th {\n        vertical-align: top;\n    }\n\n    .dataframe thead th {\n        text-align: right;\n    }\n</style>\n<table border=\"1\" class=\"dataframe\">\n  <thead>\n    <tr style=\"text-align: right;\">\n      <th></th>\n      <th>PassengerId</th>\n      <th>Survived</th>\n      <th>Pclass</th>\n      <th>Name</th>\n      <th>Sex</th>\n      <th>Age</th>\n      <th>SibSp</th>\n      <th>Parch</th>\n      <th>Ticket</th>\n      <th>Fare</th>\n      <th>Cabin</th>\n      <th>Embarked</th>\n    </tr>\n  </thead>\n  <tbody>\n    <tr>\n      <th>0</th>\n      <td>1</td>\n      <td>0</td>\n      <td>3</td>\n      <td>Braund, Mr. Owen Harris</td>\n      <td>male</td>\n      <td>22.0</td>\n      <td>1</td>\n      <td>0</td>\n      <td>A/5 21171</td>\n      <td>7.2500</td>\n      <td>NaN</td>\n      <td>S</td>\n    </tr>\n    <tr>\n      <th>1</th>\n      <td>2</td>\n      <td>1</td>\n      <td>1</td>\n      <td>Cumings, Mrs. John Bradley (Florence Briggs Th...</td>\n      <td>female</td>\n      <td>38.0</td>\n      <td>1</td>\n      <td>0</td>\n      <td>PC 17599</td>\n      <td>71.2833</td>\n      <td>C85</td>\n      <td>C</td>\n    </tr>\n    <tr>\n      <th>2</th>\n      <td>3</td>\n      <td>1</td>\n      <td>3</td>\n      <td>Heikkinen, Miss. Laina</td>\n      <td>female</td>\n      <td>26.0</td>\n      <td>0</td>\n      <td>0</td>\n      <td>STON/O2. 3101282</td>\n      <td>7.9250</td>\n      <td>NaN</td>\n      <td>S</td>\n    </tr>\n    <tr>\n      <th>3</th>\n      <td>4</td>\n      <td>1</td>\n      <td>1</td>\n      <td>Futrelle, Mrs. Jacques Heath (Lily May Peel)</td>\n      <td>female</td>\n      <td>35.0</td>\n      <td>1</td>\n      <td>0</td>\n      <td>113803</td>\n      <td>53.1000</td>\n      <td>C123</td>\n      <td>S</td>\n    </tr>\n    <tr>\n      <th>4</th>\n      <td>5</td>\n      <td>0</td>\n      <td>3</td>\n      <td>Allen, Mr. William Henry</td>\n      <td>male</td>\n      <td>35.0</td>\n      <td>0</td>\n      <td>0</td>\n      <td>373450</td>\n      <td>8.0500</td>\n      <td>NaN</td>\n      <td>S</td>\n    </tr>\n  </tbody>\n</table>\n</div>"
          },
          "metadata": {}
        }
      ]
    },
    {
      "cell_type": "code",
      "source": [
        "# 2. Check the Last 3 Rows of The Dataset\n",
        "df1.tail(3)"
      ],
      "metadata": {
        "execution": {
          "iopub.status.busy": "2024-06-03T05:31:42.557376Z",
          "iopub.execute_input": "2024-06-03T05:31:42.557888Z",
          "iopub.status.idle": "2024-06-03T05:31:42.584214Z",
          "shell.execute_reply.started": "2024-06-03T05:31:42.557845Z",
          "shell.execute_reply": "2024-06-03T05:31:42.582648Z"
        },
        "trusted": true,
        "id": "_PAu_jvw4d3L",
        "outputId": "8a94173e-4528-4be2-cd5e-7416200c8d22"
      },
      "execution_count": null,
      "outputs": [
        {
          "execution_count": 49,
          "output_type": "execute_result",
          "data": {
            "text/plain": "     PassengerId  Survived  Pclass                                      Name  \\\n888          889         0       3  Johnston, Miss. Catherine Helen \"Carrie\"   \n889          890         1       1                     Behr, Mr. Karl Howell   \n890          891         0       3                       Dooley, Mr. Patrick   \n\n        Sex   Age  SibSp  Parch      Ticket   Fare Cabin Embarked  \n888  female   NaN      1      2  W./C. 6607  23.45   NaN        S  \n889    male  26.0      0      0      111369  30.00  C148        C  \n890    male  32.0      0      0      370376   7.75   NaN        Q  ",
            "text/html": "<div>\n<style scoped>\n    .dataframe tbody tr th:only-of-type {\n        vertical-align: middle;\n    }\n\n    .dataframe tbody tr th {\n        vertical-align: top;\n    }\n\n    .dataframe thead th {\n        text-align: right;\n    }\n</style>\n<table border=\"1\" class=\"dataframe\">\n  <thead>\n    <tr style=\"text-align: right;\">\n      <th></th>\n      <th>PassengerId</th>\n      <th>Survived</th>\n      <th>Pclass</th>\n      <th>Name</th>\n      <th>Sex</th>\n      <th>Age</th>\n      <th>SibSp</th>\n      <th>Parch</th>\n      <th>Ticket</th>\n      <th>Fare</th>\n      <th>Cabin</th>\n      <th>Embarked</th>\n    </tr>\n  </thead>\n  <tbody>\n    <tr>\n      <th>888</th>\n      <td>889</td>\n      <td>0</td>\n      <td>3</td>\n      <td>Johnston, Miss. Catherine Helen \"Carrie\"</td>\n      <td>female</td>\n      <td>NaN</td>\n      <td>1</td>\n      <td>2</td>\n      <td>W./C. 6607</td>\n      <td>23.45</td>\n      <td>NaN</td>\n      <td>S</td>\n    </tr>\n    <tr>\n      <th>889</th>\n      <td>890</td>\n      <td>1</td>\n      <td>1</td>\n      <td>Behr, Mr. Karl Howell</td>\n      <td>male</td>\n      <td>26.0</td>\n      <td>0</td>\n      <td>0</td>\n      <td>111369</td>\n      <td>30.00</td>\n      <td>C148</td>\n      <td>C</td>\n    </tr>\n    <tr>\n      <th>890</th>\n      <td>891</td>\n      <td>0</td>\n      <td>3</td>\n      <td>Dooley, Mr. Patrick</td>\n      <td>male</td>\n      <td>32.0</td>\n      <td>0</td>\n      <td>0</td>\n      <td>370376</td>\n      <td>7.75</td>\n      <td>NaN</td>\n      <td>Q</td>\n    </tr>\n  </tbody>\n</table>\n</div>"
          },
          "metadata": {}
        }
      ]
    },
    {
      "cell_type": "code",
      "source": [
        "# 3. Find Shape of Our Dataset (Number of Rows & Number of Columns)\n",
        "df1.shape"
      ],
      "metadata": {
        "execution": {
          "iopub.status.busy": "2024-06-03T05:31:42.597231Z",
          "iopub.execute_input": "2024-06-03T05:31:42.598167Z",
          "iopub.status.idle": "2024-06-03T05:31:42.60619Z",
          "shell.execute_reply.started": "2024-06-03T05:31:42.598125Z",
          "shell.execute_reply": "2024-06-03T05:31:42.604664Z"
        },
        "trusted": true,
        "id": "Euo68AHZ4d3O",
        "outputId": "63922f76-f29d-490f-a8f0-807ff3fa7ae2"
      },
      "execution_count": null,
      "outputs": [
        {
          "execution_count": 50,
          "output_type": "execute_result",
          "data": {
            "text/plain": "(891, 12)"
          },
          "metadata": {}
        }
      ]
    },
    {
      "cell_type": "code",
      "source": [
        "# 4.Get Information About Our Dataset Like Total Number Rows, Total Number of Columns, Datatypes of Each Column And Memory Requirement\n",
        "df1.info()"
      ],
      "metadata": {
        "execution": {
          "iopub.status.busy": "2024-06-03T05:31:42.608972Z",
          "iopub.execute_input": "2024-06-03T05:31:42.610349Z",
          "iopub.status.idle": "2024-06-03T05:31:42.62635Z",
          "shell.execute_reply.started": "2024-06-03T05:31:42.610298Z",
          "shell.execute_reply": "2024-06-03T05:31:42.624596Z"
        },
        "trusted": true,
        "id": "7kDSIFJ54d3P",
        "outputId": "a60acc72-2fee-4547-bf73-71249ed627b8"
      },
      "execution_count": null,
      "outputs": [
        {
          "name": "stdout",
          "text": "<class 'pandas.core.frame.DataFrame'>\nRangeIndex: 891 entries, 0 to 890\nData columns (total 12 columns):\n #   Column       Non-Null Count  Dtype  \n---  ------       --------------  -----  \n 0   PassengerId  891 non-null    int64  \n 1   Survived     891 non-null    int64  \n 2   Pclass       891 non-null    int64  \n 3   Name         891 non-null    object \n 4   Sex          891 non-null    object \n 5   Age          714 non-null    float64\n 6   SibSp        891 non-null    int64  \n 7   Parch        891 non-null    int64  \n 8   Ticket       891 non-null    object \n 9   Fare         891 non-null    float64\n 10  Cabin        204 non-null    object \n 11  Embarked     889 non-null    object \ndtypes: float64(2), int64(5), object(5)\nmemory usage: 83.7+ KB\n",
          "output_type": "stream"
        }
      ]
    },
    {
      "cell_type": "code",
      "source": [
        "# 5. Get Overall Statistics About The Dataframe\n",
        "df1.describe().T"
      ],
      "metadata": {
        "execution": {
          "iopub.status.busy": "2024-06-03T05:31:42.628913Z",
          "iopub.execute_input": "2024-06-03T05:31:42.629281Z",
          "iopub.status.idle": "2024-06-03T05:31:42.675418Z",
          "shell.execute_reply.started": "2024-06-03T05:31:42.629252Z",
          "shell.execute_reply": "2024-06-03T05:31:42.674118Z"
        },
        "trusted": true,
        "id": "3M8LiBXy4d3Q",
        "outputId": "f5fa1821-f662-460c-b3e6-3d827df029ac"
      },
      "execution_count": null,
      "outputs": [
        {
          "execution_count": 52,
          "output_type": "execute_result",
          "data": {
            "text/plain": "             count        mean         std   min       25%       50%    75%  \\\nPassengerId  891.0  446.000000  257.353842  1.00  223.5000  446.0000  668.5   \nSurvived     891.0    0.383838    0.486592  0.00    0.0000    0.0000    1.0   \nPclass       891.0    2.308642    0.836071  1.00    2.0000    3.0000    3.0   \nAge          714.0   29.699118   14.526497  0.42   20.1250   28.0000   38.0   \nSibSp        891.0    0.523008    1.102743  0.00    0.0000    0.0000    1.0   \nParch        891.0    0.381594    0.806057  0.00    0.0000    0.0000    0.0   \nFare         891.0   32.204208   49.693429  0.00    7.9104   14.4542   31.0   \n\n                  max  \nPassengerId  891.0000  \nSurvived       1.0000  \nPclass         3.0000  \nAge           80.0000  \nSibSp          8.0000  \nParch          6.0000  \nFare         512.3292  ",
            "text/html": "<div>\n<style scoped>\n    .dataframe tbody tr th:only-of-type {\n        vertical-align: middle;\n    }\n\n    .dataframe tbody tr th {\n        vertical-align: top;\n    }\n\n    .dataframe thead th {\n        text-align: right;\n    }\n</style>\n<table border=\"1\" class=\"dataframe\">\n  <thead>\n    <tr style=\"text-align: right;\">\n      <th></th>\n      <th>count</th>\n      <th>mean</th>\n      <th>std</th>\n      <th>min</th>\n      <th>25%</th>\n      <th>50%</th>\n      <th>75%</th>\n      <th>max</th>\n    </tr>\n  </thead>\n  <tbody>\n    <tr>\n      <th>PassengerId</th>\n      <td>891.0</td>\n      <td>446.000000</td>\n      <td>257.353842</td>\n      <td>1.00</td>\n      <td>223.5000</td>\n      <td>446.0000</td>\n      <td>668.5</td>\n      <td>891.0000</td>\n    </tr>\n    <tr>\n      <th>Survived</th>\n      <td>891.0</td>\n      <td>0.383838</td>\n      <td>0.486592</td>\n      <td>0.00</td>\n      <td>0.0000</td>\n      <td>0.0000</td>\n      <td>1.0</td>\n      <td>1.0000</td>\n    </tr>\n    <tr>\n      <th>Pclass</th>\n      <td>891.0</td>\n      <td>2.308642</td>\n      <td>0.836071</td>\n      <td>1.00</td>\n      <td>2.0000</td>\n      <td>3.0000</td>\n      <td>3.0</td>\n      <td>3.0000</td>\n    </tr>\n    <tr>\n      <th>Age</th>\n      <td>714.0</td>\n      <td>29.699118</td>\n      <td>14.526497</td>\n      <td>0.42</td>\n      <td>20.1250</td>\n      <td>28.0000</td>\n      <td>38.0</td>\n      <td>80.0000</td>\n    </tr>\n    <tr>\n      <th>SibSp</th>\n      <td>891.0</td>\n      <td>0.523008</td>\n      <td>1.102743</td>\n      <td>0.00</td>\n      <td>0.0000</td>\n      <td>0.0000</td>\n      <td>1.0</td>\n      <td>8.0000</td>\n    </tr>\n    <tr>\n      <th>Parch</th>\n      <td>891.0</td>\n      <td>0.381594</td>\n      <td>0.806057</td>\n      <td>0.00</td>\n      <td>0.0000</td>\n      <td>0.0000</td>\n      <td>0.0</td>\n      <td>6.0000</td>\n    </tr>\n    <tr>\n      <th>Fare</th>\n      <td>891.0</td>\n      <td>32.204208</td>\n      <td>49.693429</td>\n      <td>0.00</td>\n      <td>7.9104</td>\n      <td>14.4542</td>\n      <td>31.0</td>\n      <td>512.3292</td>\n    </tr>\n  </tbody>\n</table>\n</div>"
          },
          "metadata": {}
        }
      ]
    },
    {
      "cell_type": "code",
      "source": [
        "# 6. Data Filtering\n",
        "df1.columns"
      ],
      "metadata": {
        "execution": {
          "iopub.status.busy": "2024-06-03T05:31:42.677228Z",
          "iopub.execute_input": "2024-06-03T05:31:42.677673Z",
          "iopub.status.idle": "2024-06-03T05:31:42.686819Z",
          "shell.execute_reply.started": "2024-06-03T05:31:42.677638Z",
          "shell.execute_reply": "2024-06-03T05:31:42.685473Z"
        },
        "trusted": true,
        "id": "q_csJeqA4d3R",
        "outputId": "68b36705-31ca-4481-af5c-7724b4c0164a"
      },
      "execution_count": null,
      "outputs": [
        {
          "execution_count": 53,
          "output_type": "execute_result",
          "data": {
            "text/plain": "Index(['PassengerId', 'Survived', 'Pclass', 'Name', 'Sex', 'Age', 'SibSp',\n       'Parch', 'Ticket', 'Fare', 'Cabin', 'Embarked'],\n      dtype='object')"
          },
          "metadata": {}
        }
      ]
    },
    {
      "cell_type": "code",
      "source": [
        "sum(df1.Sex=='male')"
      ],
      "metadata": {
        "execution": {
          "iopub.status.busy": "2024-06-03T05:31:42.692089Z",
          "iopub.execute_input": "2024-06-03T05:31:42.692622Z",
          "iopub.status.idle": "2024-06-03T05:31:42.703726Z",
          "shell.execute_reply.started": "2024-06-03T05:31:42.692577Z",
          "shell.execute_reply": "2024-06-03T05:31:42.701753Z"
        },
        "trusted": true,
        "id": "TKx2DB_54d3S",
        "outputId": "959326b1-f1e2-42dc-f257-abbfd93a9a0b"
      },
      "execution_count": null,
      "outputs": [
        {
          "execution_count": 54,
          "output_type": "execute_result",
          "data": {
            "text/plain": "577"
          },
          "metadata": {}
        }
      ]
    },
    {
      "cell_type": "code",
      "source": [
        "# 7.Check Null Values In The Dataset\n",
        "df1.isnull().sum()"
      ],
      "metadata": {
        "execution": {
          "iopub.status.busy": "2024-06-03T05:31:42.705701Z",
          "iopub.execute_input": "2024-06-03T05:31:42.706198Z",
          "iopub.status.idle": "2024-06-03T05:31:42.718988Z",
          "shell.execute_reply.started": "2024-06-03T05:31:42.706162Z",
          "shell.execute_reply": "2024-06-03T05:31:42.717544Z"
        },
        "trusted": true,
        "id": "7nJ5x6qk4d3U",
        "outputId": "05899690-0361-4775-b1d5-aad53c55477d"
      },
      "execution_count": null,
      "outputs": [
        {
          "execution_count": 55,
          "output_type": "execute_result",
          "data": {
            "text/plain": "PassengerId      0\nSurvived         0\nPclass           0\nName             0\nSex              0\nAge            177\nSibSp            0\nParch            0\nTicket           0\nFare             0\nCabin          687\nEmbarked         2\ndtype: int64"
          },
          "metadata": {}
        }
      ]
    },
    {
      "cell_type": "code",
      "source": [
        "sns.heatmap(df1.isnull())"
      ],
      "metadata": {
        "execution": {
          "iopub.status.busy": "2024-06-03T05:31:42.720671Z",
          "iopub.execute_input": "2024-06-03T05:31:42.721056Z",
          "iopub.status.idle": "2024-06-03T05:31:43.384972Z",
          "shell.execute_reply.started": "2024-06-03T05:31:42.721026Z",
          "shell.execute_reply": "2024-06-03T05:31:43.383741Z"
        },
        "trusted": true,
        "id": "JqhEi8_b4d3V",
        "outputId": "8d014d49-c866-4f3f-f554-5d8aa2cf994a"
      },
      "execution_count": null,
      "outputs": [
        {
          "execution_count": 56,
          "output_type": "execute_result",
          "data": {
            "text/plain": "<Axes: >"
          },
          "metadata": {}
        },
        {
          "output_type": "display_data",
          "data": {
            "text/plain": "<Figure size 640x480 with 2 Axes>",
            "image/png": "[encoded data removed]"
          },
          "metadata": {}
        }
      ]
    },
    {
      "cell_type": "code",
      "source": [
        "# 8. Drop the Column\n",
        "df1.drop(columns=['Cabin'], axis=1, inplace=True)"
      ],
      "metadata": {
        "execution": {
          "iopub.status.busy": "2024-06-03T05:31:43.386501Z",
          "iopub.execute_input": "2024-06-03T05:31:43.386848Z",
          "iopub.status.idle": "2024-06-03T05:31:43.394002Z",
          "shell.execute_reply.started": "2024-06-03T05:31:43.386818Z",
          "shell.execute_reply": "2024-06-03T05:31:43.392562Z"
        },
        "trusted": true,
        "id": "8jQwQCGP4d3W"
      },
      "execution_count": null,
      "outputs": []
    },
    {
      "cell_type": "code",
      "source": [
        "df1.Age.mean()"
      ],
      "metadata": {
        "execution": {
          "iopub.status.busy": "2024-06-03T05:31:43.395688Z",
          "iopub.execute_input": "2024-06-03T05:31:43.396079Z",
          "iopub.status.idle": "2024-06-03T05:31:43.408621Z",
          "shell.execute_reply.started": "2024-06-03T05:31:43.396027Z",
          "shell.execute_reply": "2024-06-03T05:31:43.407523Z"
        },
        "trusted": true,
        "id": "XwIF7iqw4d3X",
        "outputId": "8e137636-21ee-4529-c108-4dd576e94500"
      },
      "execution_count": null,
      "outputs": [
        {
          "execution_count": 58,
          "output_type": "execute_result",
          "data": {
            "text/plain": "29.69911764705882"
          },
          "metadata": {}
        }
      ]
    },
    {
      "cell_type": "code",
      "source": [
        "# 9. Handle Missing Values\n",
        "#df1.isnull().sum()\n",
        "df1['Age'].fillna(30)"
      ],
      "metadata": {
        "execution": {
          "iopub.status.busy": "2024-06-03T05:31:43.412005Z",
          "iopub.execute_input": "2024-06-03T05:31:43.412426Z",
          "iopub.status.idle": "2024-06-03T05:31:43.42428Z",
          "shell.execute_reply.started": "2024-06-03T05:31:43.412393Z",
          "shell.execute_reply": "2024-06-03T05:31:43.422923Z"
        },
        "trusted": true,
        "id": "3sqNCDPF4d3X",
        "outputId": "bb2f7ee4-3962-49f2-dc8c-6766b99c5196"
      },
      "execution_count": null,
      "outputs": [
        {
          "execution_count": 59,
          "output_type": "execute_result",
          "data": {
            "text/plain": "0      22.0\n1      38.0\n2      26.0\n3      35.0\n4      35.0\n       ... \n886    27.0\n887    19.0\n888    30.0\n889    26.0\n890    32.0\nName: Age, Length: 891, dtype: float64"
          },
          "metadata": {}
        }
      ]
    },
    {
      "cell_type": "code",
      "source": [
        "df1.isnull().sum()"
      ],
      "metadata": {
        "execution": {
          "iopub.status.busy": "2024-06-03T05:31:43.42604Z",
          "iopub.execute_input": "2024-06-03T05:31:43.42659Z",
          "iopub.status.idle": "2024-06-03T05:31:43.447163Z",
          "shell.execute_reply.started": "2024-06-03T05:31:43.426554Z",
          "shell.execute_reply": "2024-06-03T05:31:43.445791Z"
        },
        "trusted": true,
        "id": "0rzf5I0K4d3X",
        "outputId": "83455ab0-a01a-4e06-ec65-119c1cbb3703"
      },
      "execution_count": null,
      "outputs": [
        {
          "execution_count": 60,
          "output_type": "execute_result",
          "data": {
            "text/plain": "PassengerId      0\nSurvived         0\nPclass           0\nName             0\nSex              0\nAge            177\nSibSp            0\nParch            0\nTicket           0\nFare             0\nEmbarked         2\ndtype: int64"
          },
          "metadata": {}
        }
      ]
    },
    {
      "cell_type": "code",
      "source": [
        "# 10. Categorical Data Encoding\n",
        "df1.Sex.unique()"
      ],
      "metadata": {
        "execution": {
          "iopub.status.busy": "2024-06-03T05:31:43.448744Z",
          "iopub.execute_input": "2024-06-03T05:31:43.449076Z",
          "iopub.status.idle": "2024-06-03T05:31:43.464578Z",
          "shell.execute_reply.started": "2024-06-03T05:31:43.449048Z",
          "shell.execute_reply": "2024-06-03T05:31:43.463112Z"
        },
        "trusted": true,
        "id": "y1pq0Ug54d3Z",
        "outputId": "41bc512d-694b-4a55-e84a-fd5ab7104f9d"
      },
      "execution_count": null,
      "outputs": [
        {
          "execution_count": 61,
          "output_type": "execute_result",
          "data": {
            "text/plain": "array(['male', 'female'], dtype=object)"
          },
          "metadata": {}
        }
      ]
    },
    {
      "cell_type": "code",
      "source": [
        "df1['sex'] = df1.Sex.map({'male':1, 'female':0})"
      ],
      "metadata": {
        "execution": {
          "iopub.status.busy": "2024-06-03T05:31:43.466029Z",
          "iopub.execute_input": "2024-06-03T05:31:43.467078Z",
          "iopub.status.idle": "2024-06-03T05:31:43.480935Z",
          "shell.execute_reply.started": "2024-06-03T05:31:43.467029Z",
          "shell.execute_reply": "2024-06-03T05:31:43.478893Z"
        },
        "trusted": true,
        "id": "1Ad7UUA54d3Z"
      },
      "execution_count": null,
      "outputs": []
    },
    {
      "cell_type": "code",
      "source": [
        "df1= pd.get_dummies(df1, columns = ['Embarked'] )"
      ],
      "metadata": {
        "execution": {
          "iopub.status.busy": "2024-06-03T06:10:06.747579Z",
          "iopub.execute_input": "2024-06-03T06:10:06.74807Z",
          "iopub.status.idle": "2024-06-03T06:10:06.760974Z",
          "shell.execute_reply.started": "2024-06-03T06:10:06.748034Z",
          "shell.execute_reply": "2024-06-03T06:10:06.759623Z"
        },
        "trusted": true,
        "id": "lrOsvzWF4d3a"
      },
      "execution_count": null,
      "outputs": []
    },
    {
      "cell_type": "code",
      "source": [
        "df1.columns"
      ],
      "metadata": {
        "execution": {
          "iopub.status.busy": "2024-06-03T06:10:29.394798Z",
          "iopub.execute_input": "2024-06-03T06:10:29.396244Z",
          "iopub.status.idle": "2024-06-03T06:10:29.404941Z",
          "shell.execute_reply.started": "2024-06-03T06:10:29.3962Z",
          "shell.execute_reply": "2024-06-03T06:10:29.403717Z"
        },
        "trusted": true,
        "id": "WP5Si4VM4d3b",
        "outputId": "edcd9885-f6fd-49e5-a68a-c3db7bfb14b3"
      },
      "execution_count": null,
      "outputs": [
        {
          "execution_count": 68,
          "output_type": "execute_result",
          "data": {
            "text/plain": "Index(['PassengerId', 'Survived', 'Pclass', 'Name', 'Sex', 'Age', 'SibSp',\n       'Parch', 'Ticket', 'Fare', 'sex', 'Embarked_C', 'Embarked_Q',\n       'Embarked_S'],\n      dtype='object')"
          },
          "metadata": {}
        }
      ]
    },
    {
      "cell_type": "markdown",
      "source": [
        "# **Univariate Analysis**"
      ],
      "metadata": {
        "id": "TeHTFUaf4d3b"
      }
    },
    {
      "cell_type": "markdown",
      "source": [
        "**Categorical Data**"
      ],
      "metadata": {
        "id": "TB_zPStt4d3c"
      }
    },
    {
      "cell_type": "code",
      "source": [
        "# 11.  How many people survived and How many died?\n",
        "df1.Survived.value_counts()"
      ],
      "metadata": {
        "execution": {
          "iopub.status.busy": "2024-06-03T06:12:57.334402Z",
          "iopub.execute_input": "2024-06-03T06:12:57.3349Z",
          "iopub.status.idle": "2024-06-03T06:12:57.347235Z",
          "shell.execute_reply.started": "2024-06-03T06:12:57.334865Z",
          "shell.execute_reply": "2024-06-03T06:12:57.345817Z"
        },
        "trusted": true,
        "id": "jvox4SvY4d3c",
        "outputId": "7c130c46-5294-47db-9cf8-826418520883"
      },
      "execution_count": null,
      "outputs": [
        {
          "execution_count": 70,
          "output_type": "execute_result",
          "data": {
            "text/plain": "Survived\n0    549\n1    342\nName: count, dtype: int64"
          },
          "metadata": {}
        }
      ]
    },
    {
      "cell_type": "code",
      "source": [
        "sns.countplot(x = df1['Survived'])"
      ],
      "metadata": {
        "execution": {
          "iopub.status.busy": "2024-06-03T06:17:17.754826Z",
          "iopub.execute_input": "2024-06-03T06:17:17.755849Z",
          "iopub.status.idle": "2024-06-03T06:17:17.95063Z",
          "shell.execute_reply.started": "2024-06-03T06:17:17.755807Z",
          "shell.execute_reply": "2024-06-03T06:17:17.949264Z"
        },
        "trusted": true,
        "id": "ugZDvYp24d3c",
        "outputId": "8138e4dc-f084-4d25-8972-d454f8bfb006"
      },
      "execution_count": null,
      "outputs": [
        {
          "execution_count": 76,
          "output_type": "execute_result",
          "data": {
            "text/plain": "<Axes: xlabel='Survived', ylabel='count'>"
          },
          "metadata": {}
        },
        {
          "output_type": "display_data",
          "data": {
            "text/plain": "<Figure size 640x480 with 1 Axes>",
            "image/png": "[encoded data removed]"
          },
          "metadata": {}
        }
      ]
    },
    {
      "cell_type": "code",
      "source": [
        "# 12. How many passengers were in first class, second class and third class\n",
        "df1.Pclass.value_counts()"
      ],
      "metadata": {
        "execution": {
          "iopub.status.busy": "2024-06-03T06:23:31.195064Z",
          "iopub.execute_input": "2024-06-03T06:23:31.195623Z",
          "iopub.status.idle": "2024-06-03T06:23:31.207517Z",
          "shell.execute_reply.started": "2024-06-03T06:23:31.19558Z",
          "shell.execute_reply": "2024-06-03T06:23:31.205422Z"
        },
        "trusted": true,
        "id": "AUUg9sNs4d3d",
        "outputId": "884eddf9-37c6-445f-d791-2d40ad8427b8"
      },
      "execution_count": null,
      "outputs": [
        {
          "execution_count": 81,
          "output_type": "execute_result",
          "data": {
            "text/plain": "Pclass\n3    491\n1    216\n2    184\nName: count, dtype: int64"
          },
          "metadata": {}
        }
      ]
    },
    {
      "cell_type": "code",
      "source": [
        "sns.countplot(x = df1.Pclass)"
      ],
      "metadata": {
        "execution": {
          "iopub.status.busy": "2024-06-03T06:23:53.428271Z",
          "iopub.execute_input": "2024-06-03T06:23:53.4288Z",
          "iopub.status.idle": "2024-06-03T06:23:53.613635Z",
          "shell.execute_reply.started": "2024-06-03T06:23:53.428759Z",
          "shell.execute_reply": "2024-06-03T06:23:53.612175Z"
        },
        "trusted": true,
        "id": "7Oy6HOwG4d3e",
        "outputId": "ec9de4a0-40d1-44c2-e1cd-322fe8cf624b"
      },
      "execution_count": null,
      "outputs": [
        {
          "execution_count": 83,
          "output_type": "execute_result",
          "data": {
            "text/plain": "<Axes: xlabel='Pclass', ylabel='count'>"
          },
          "metadata": {}
        },
        {
          "output_type": "display_data",
          "data": {
            "text/plain": "<Figure size 640x480 with 1 Axes>",
            "image/png": "[encoded data removed]"
          },
          "metadata": {}
        }
      ]
    },
    {
      "cell_type": "code",
      "source": [
        "# 13. Number of male and female Passsengers\n",
        "df1.Sex.value_counts()"
      ],
      "metadata": {
        "execution": {
          "iopub.status.busy": "2024-06-03T06:24:49.875807Z",
          "iopub.execute_input": "2024-06-03T06:24:49.876214Z",
          "iopub.status.idle": "2024-06-03T06:24:49.886934Z",
          "shell.execute_reply.started": "2024-06-03T06:24:49.876185Z",
          "shell.execute_reply": "2024-06-03T06:24:49.885537Z"
        },
        "trusted": true,
        "id": "cWgQsHIF4d3e",
        "outputId": "baea477f-03b3-4bdb-c1b6-f94f76e18132"
      },
      "execution_count": null,
      "outputs": [
        {
          "execution_count": 86,
          "output_type": "execute_result",
          "data": {
            "text/plain": "Sex\nmale      577\nfemale    314\nName: count, dtype: int64"
          },
          "metadata": {}
        }
      ]
    },
    {
      "cell_type": "code",
      "source": [
        "sns.countplot(x = df1.Sex)"
      ],
      "metadata": {
        "execution": {
          "iopub.status.busy": "2024-06-03T06:25:09.006917Z",
          "iopub.execute_input": "2024-06-03T06:25:09.007342Z",
          "iopub.status.idle": "2024-06-03T06:25:09.270561Z",
          "shell.execute_reply.started": "2024-06-03T06:25:09.007307Z",
          "shell.execute_reply": "2024-06-03T06:25:09.269269Z"
        },
        "trusted": true,
        "id": "zBANDDRn4d3f",
        "outputId": "bb519d25-b0c3-4a03-cb80-9f6a3e2ba818"
      },
      "execution_count": null,
      "outputs": [
        {
          "execution_count": 87,
          "output_type": "execute_result",
          "data": {
            "text/plain": "<Axes: xlabel='Sex', ylabel='count'>"
          },
          "metadata": {}
        },
        {
          "output_type": "display_data",
          "data": {
            "text/plain": "<Figure size 640x480 with 1 Axes>",
            "image/png": "[encoded data removed]"
          },
          "metadata": {}
        }
      ]
    },
    {
      "cell_type": "markdown",
      "source": [
        "**Continuous Data**"
      ],
      "metadata": {
        "id": "CnXWPAp94d3g"
      }
    },
    {
      "cell_type": "code",
      "source": [
        "plt.hist(df1['Age'])"
      ],
      "metadata": {
        "execution": {
          "iopub.status.busy": "2024-06-03T06:26:21.01707Z",
          "iopub.execute_input": "2024-06-03T06:26:21.017494Z",
          "iopub.status.idle": "2024-06-03T06:26:21.35374Z",
          "shell.execute_reply.started": "2024-06-03T06:26:21.01746Z",
          "shell.execute_reply": "2024-06-03T06:26:21.352377Z"
        },
        "trusted": true,
        "id": "3prUruFj4d3h",
        "outputId": "083b855c-9b50-4199-ce42-d963783cf905"
      },
      "execution_count": null,
      "outputs": [
        {
          "execution_count": 89,
          "output_type": "execute_result",
          "data": {
            "text/plain": "(array([ 54.,  46., 177., 169., 118.,  70.,  45.,  24.,   9.,   2.]),\n array([ 0.42 ,  8.378, 16.336, 24.294, 32.252, 40.21 , 48.168, 56.126,\n        64.084, 72.042, 80.   ]),\n <BarContainer object of 10 artists>)"
          },
          "metadata": {}
        },
        {
          "output_type": "display_data",
          "data": {
            "text/plain": "<Figure size 640x480 with 1 Axes>",
            "image/png": "[encoded data removed]"
          },
          "metadata": {}
        }
      ]
    },
    {
      "cell_type": "code",
      "source": [
        "sns.boxplot(df1.Age)"
      ],
      "metadata": {
        "execution": {
          "iopub.status.busy": "2024-06-03T06:29:44.786314Z",
          "iopub.execute_input": "2024-06-03T06:29:44.786774Z",
          "iopub.status.idle": "2024-06-03T06:29:44.980772Z",
          "shell.execute_reply.started": "2024-06-03T06:29:44.78674Z",
          "shell.execute_reply": "2024-06-03T06:29:44.979377Z"
        },
        "trusted": true,
        "id": "yb0qc4FQ4d3i",
        "outputId": "1282d3bd-5a03-4a07-95cf-8db52e52c1b5"
      },
      "execution_count": null,
      "outputs": [
        {
          "execution_count": 90,
          "output_type": "execute_result",
          "data": {
            "text/plain": "<Axes: >"
          },
          "metadata": {}
        },
        {
          "output_type": "display_data",
          "data": {
            "text/plain": "<Figure size 640x480 with 1 Axes>",
            "image/png": "[encoded data removed]"
          },
          "metadata": {}
        }
      ]
    },
    {
      "cell_type": "markdown",
      "source": [
        "# **Bivariate Analysis**"
      ],
      "metadata": {
        "id": "RnsE3RQS4d3i"
      }
    },
    {
      "cell_type": "markdown",
      "source": [
        "**BarPlot is used to compare categories of Data**"
      ],
      "metadata": {
        "id": "33Wt4MVz4d3j"
      }
    },
    {
      "cell_type": "code",
      "source": [
        "# Who Has Better Chance of Survival Male or Female?\n",
        "sns.barplot(x='Sex', y='Survived', data=df1)"
      ],
      "metadata": {
        "execution": {
          "iopub.status.busy": "2024-06-03T06:45:29.084571Z",
          "iopub.execute_input": "2024-06-03T06:45:29.084993Z",
          "iopub.status.idle": "2024-06-03T06:45:29.904315Z",
          "shell.execute_reply.started": "2024-06-03T06:45:29.084963Z",
          "shell.execute_reply": "2024-06-03T06:45:29.903047Z"
        },
        "trusted": true,
        "id": "idg5tT1A4d3j",
        "outputId": "b1cb9e5a-dee4-4a81-f364-f79e796e026c"
      },
      "execution_count": null,
      "outputs": [
        {
          "execution_count": 100,
          "output_type": "execute_result",
          "data": {
            "text/plain": "<Axes: xlabel='Sex', ylabel='Survived'>"
          },
          "metadata": {}
        },
        {
          "output_type": "display_data",
          "data": {
            "text/plain": "<Figure size 640x480 with 1 Axes>",
            "image/png": "[encoded data removed]"
          },
          "metadata": {}
        }
      ]
    },
    {
      "cell_type": "code",
      "source": [
        "# Which Passenger Class Has Better Chance of Survival (First, Second, Or Third Class)?\n",
        "sns.barplot(x='Pclass', y ='Survived', data=df1)"
      ],
      "metadata": {
        "execution": {
          "iopub.status.busy": "2024-06-03T06:49:15.654585Z",
          "iopub.execute_input": "2024-06-03T06:49:15.655789Z",
          "iopub.status.idle": "2024-06-03T06:49:16.041907Z",
          "shell.execute_reply.started": "2024-06-03T06:49:15.655745Z",
          "shell.execute_reply": "2024-06-03T06:49:16.040542Z"
        },
        "trusted": true,
        "id": "rIfVXe2t4d3k",
        "outputId": "7e084f83-17e0-40a1-a18f-1daf1cb15745"
      },
      "execution_count": null,
      "outputs": [
        {
          "execution_count": 107,
          "output_type": "execute_result",
          "data": {
            "text/plain": "<Axes: xlabel='Pclass', ylabel='Survived'>"
          },
          "metadata": {}
        },
        {
          "output_type": "display_data",
          "data": {
            "text/plain": "<Figure size 640x480 with 1 Axes>",
            "image/png": "[encoded data removed]"
          },
          "metadata": {}
        }
      ]
    }
  ]
}